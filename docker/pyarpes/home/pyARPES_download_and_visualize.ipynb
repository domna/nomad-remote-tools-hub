{
 "cells": [
  {
   "cell_type": "code",
   "execution_count": 1,
   "id": "4d242bd3-6fa8-42c8-b48b-000d0d4adf47",
   "metadata": {},
   "outputs": [
    {
     "name": "stderr",
     "output_type": "stream",
     "text": [
      "/home/dobener/dev/arpes/arpes/config.py:54: UserWarning: Could not find local configuration file. If you don't have one, you can safely ignore this message.\n",
      "  warnings.warn(msg)\n"
     ]
    },
    {
     "name": "stdout",
     "output_type": "stream",
     "text": [
      "Activating auto-logging. Current session state plus future input saved.\n",
      "Filename       : logs/unnamed_2022-06-28_22-26-11.log\n",
      "Mode           : backup\n",
      "Output logging : False\n",
      "Raw input log  : False\n",
      "Timestamping   : False\n",
      "State          : active\n"
     ]
    }
   ],
   "source": [
    "from arpes.plotting.qt_tool import qt_tool\n",
    "from arpes.plotting.basic_tools import path_tool\n",
    "from arpes.io import example_data, load_data\n",
    "from arpes.endstations.plugin.nexus import NeXusEndstation\n",
    "import xarray as xr\n",
    "import numpy as np\n",
    "from pathlib import Path\n",
    "import h5py as h5"
   ]
  },
  {
   "cell_type": "markdown",
   "id": "7833f9b0-5bf7-4dd2-819e-82bc33416964",
   "metadata": {},
   "source": [
    "Identify in which folder we are locally"
   ]
  },
  {
   "cell_type": "code",
   "execution_count": null,
   "id": "87ad096c-bf7d-4838-96fe-f9e8faa87752",
   "metadata": {},
   "outputs": [],
   "source": [
    "! echo $PWD"
   ]
  },
  {
   "cell_type": "markdown",
   "id": "f10015b2-fea5-48d1-82eb-584656fc6d12",
   "metadata": {},
   "source": [
    "Make a new folder for the downloaded files"
   ]
  },
  {
   "cell_type": "code",
   "execution_count": 9,
   "id": "4ee8e2ed-ee52-44c4-8f6a-bb71d1d95c2d",
   "metadata": {},
   "outputs": [],
   "source": [
    "! mkdir download"
   ]
  },
  {
   "cell_type": "markdown",
   "id": "a98808fd-8d13-4cd9-98a0-ab55c8c40f15",
   "metadata": {},
   "source": [
    "Download the first file"
   ]
  },
  {
   "cell_type": "code",
   "execution_count": 10,
   "id": "58315f02-ae42-4318-abdc-e102e1753290",
   "metadata": {},
   "outputs": [
    {
     "name": "stdout",
     "output_type": "stream",
     "text": [
      "  % Total    % Received % Xferd  Average Speed   Time    Time     Time  Current\n",
      "                                 Dload  Upload   Total   Spent    Left  Speed\n",
      "100 8224k  100 8224k    0     0  2435k      0  0:00:03  0:00:03 --:--:-- 2436k\n"
     ]
    }
   ],
   "source": [
    "! curl -o download/TiTe2_0deg.nxs \"https://zenodo.org/record/5541490/files/TiTe2_0deg.nxs?download=1\""
   ]
  },
  {
   "cell_type": "markdown",
   "id": "ea6ea584-fe25-4af1-ae72-6ae7d7f34830",
   "metadata": {},
   "source": [
    "Extract the NeXus file into an xArray. In the future, mode advanced loading APIs will be developed, transferring all useful metadata."
   ]
  },
  {
   "cell_type": "code",
   "execution_count": 2,
   "id": "3b259695-1f73-4bd1-a1bc-4b5abd0432a6",
   "metadata": {},
   "outputs": [],
   "source": [
    "hf = h5.File( 'download/TiTe2_0deg.nxs', 'r' )\n",
    "zero_deg=xr.DataArray(hf['entry/data/Photoemission intensity'][:],\n",
    "        coords={'BE': hf['entry/data/calculated_Energy'][:], 'kx':hf['entry/data/calculated_kx'][:], 'ky':hf['entry/data/calculated_ky'][:]},\n",
    "        )"
   ]
  },
  {
   "cell_type": "code",
   "execution_count": 7,
   "id": "1b23f712-979f-4e33-a6c2-0a240d647415",
   "metadata": {},
   "outputs": [],
   "source": [
    "data = load_data('download/TiTe2_0deg.nxs', location='nxs')"
   ]
  },
  {
   "cell_type": "code",
   "execution_count": 8,
   "id": "a425122a-a5d9-4b9e-99d8-ebc54cdc9a77",
   "metadata": {},
   "outputs": [
    {
     "ename": "IndexError",
     "evalue": "too many indices for array: array is 0-dimensional, but 1 were indexed",
     "output_type": "error",
     "traceback": [
      "\u001b[0;31m---------------------------------------------------------------------------\u001b[0m",
      "\u001b[0;31mIndexError\u001b[0m                                Traceback (most recent call last)",
      "File \u001b[0;32m~/.pyenv/versions/3.8.13/envs/pyarpes38/lib/python3.8/site-packages/IPython/core/formatters.py:343\u001b[0m, in \u001b[0;36mBaseFormatter.__call__\u001b[0;34m(self, obj)\u001b[0m\n\u001b[1;32m    341\u001b[0m     method \u001b[38;5;241m=\u001b[39m get_real_method(obj, \u001b[38;5;28mself\u001b[39m\u001b[38;5;241m.\u001b[39mprint_method)\n\u001b[1;32m    342\u001b[0m     \u001b[38;5;28;01mif\u001b[39;00m method \u001b[38;5;129;01mis\u001b[39;00m \u001b[38;5;129;01mnot\u001b[39;00m \u001b[38;5;28;01mNone\u001b[39;00m:\n\u001b[0;32m--> 343\u001b[0m         \u001b[38;5;28;01mreturn\u001b[39;00m \u001b[43mmethod\u001b[49m\u001b[43m(\u001b[49m\u001b[43m)\u001b[49m\n\u001b[1;32m    344\u001b[0m     \u001b[38;5;28;01mreturn\u001b[39;00m \u001b[38;5;28;01mNone\u001b[39;00m\n\u001b[1;32m    345\u001b[0m \u001b[38;5;28;01melse\u001b[39;00m:\n",
      "File \u001b[0;32m~/dev/arpes/arpes/xarray_extensions.py:1759\u001b[0m, in \u001b[0;36mARPESAccessorBase._repr_html_\u001b[0;34m(self)\u001b[0m\n\u001b[1;32m   1735\u001b[0m \u001b[38;5;28;01mif\u001b[39;00m \u001b[38;5;28mlen\u001b[39m(\u001b[38;5;28mself\u001b[39m\u001b[38;5;241m.\u001b[39m_obj\u001b[38;5;241m.\u001b[39mattrs) \u001b[38;5;241m<\u001b[39m \u001b[38;5;241m10\u001b[39m:\n\u001b[1;32m   1736\u001b[0m     warning \u001b[38;5;241m=\u001b[39m \u001b[38;5;124m'\u001b[39m\u001b[38;5;124m:  <span style=\u001b[39m\u001b[38;5;124m\"\u001b[39m\u001b[38;5;124mcolor: red;\u001b[39m\u001b[38;5;124m\"\u001b[39m\u001b[38;5;124m>Few Attributes, Data Is Summed?</span>\u001b[39m\u001b[38;5;124m'\u001b[39m\n\u001b[1;32m   1738\u001b[0m \u001b[38;5;28;01mreturn\u001b[39;00m \u001b[38;5;124m\"\"\"\u001b[39m\n\u001b[1;32m   1739\u001b[0m \u001b[38;5;124m<header><strong>\u001b[39m\u001b[38;5;132;01m{name}\u001b[39;00m\u001b[38;5;132;01m{warning}\u001b[39;00m\u001b[38;5;124m</strong></header>\u001b[39m\n\u001b[1;32m   1740\u001b[0m \u001b[38;5;124m<div \u001b[39m\u001b[38;5;132;01m{wrapper_style}\u001b[39;00m\u001b[38;5;124m>\u001b[39m\n\u001b[1;32m   1741\u001b[0m \u001b[38;5;124m<details open>\u001b[39m\n\u001b[1;32m   1742\u001b[0m \u001b[38;5;124m    <summary>Experimental Conditions</summary>\u001b[39m\n\u001b[1;32m   1743\u001b[0m \u001b[38;5;124m    \u001b[39m\u001b[38;5;132;01m{conditions}\u001b[39;00m\n\u001b[1;32m   1744\u001b[0m \u001b[38;5;124m</details>\u001b[39m\n\u001b[1;32m   1745\u001b[0m \u001b[38;5;124m<details open>\u001b[39m\n\u001b[1;32m   1746\u001b[0m \u001b[38;5;124m    <summary>Full Coordinates</summary>\u001b[39m\n\u001b[1;32m   1747\u001b[0m \u001b[38;5;124m    \u001b[39m\u001b[38;5;132;01m{coordinates}\u001b[39;00m\n\u001b[1;32m   1748\u001b[0m \u001b[38;5;124m</details>\u001b[39m\n\u001b[1;32m   1749\u001b[0m \u001b[38;5;124m<details open>\u001b[39m\n\u001b[1;32m   1750\u001b[0m \u001b[38;5;124m    <summary>Spectrometer</summary>\u001b[39m\n\u001b[1;32m   1751\u001b[0m \u001b[38;5;124m    \u001b[39m\u001b[38;5;132;01m{spectrometer_info}\u001b[39;00m\n\u001b[1;32m   1752\u001b[0m \u001b[38;5;124m</details>\u001b[39m\n\u001b[1;32m   1753\u001b[0m \u001b[38;5;124m</div>\u001b[39m\n\u001b[1;32m   1754\u001b[0m \u001b[38;5;124m\u001b[39m\u001b[38;5;124m\"\"\"\u001b[39m\u001b[38;5;241m.\u001b[39mformat(\n\u001b[1;32m   1755\u001b[0m     name\u001b[38;5;241m=\u001b[39mname,\n\u001b[1;32m   1756\u001b[0m     warning\u001b[38;5;241m=\u001b[39mwarning,\n\u001b[1;32m   1757\u001b[0m     wrapper_style\u001b[38;5;241m=\u001b[39mwrapper_style,\n\u001b[1;32m   1758\u001b[0m     conditions\u001b[38;5;241m=\u001b[39m\u001b[38;5;28mself\u001b[39m\u001b[38;5;241m.\u001b[39m_repr_html_experimental_conditions(\u001b[38;5;28mself\u001b[39m\u001b[38;5;241m.\u001b[39mexperimental_conditions),\n\u001b[0;32m-> 1759\u001b[0m     coordinates\u001b[38;5;241m=\u001b[39m\u001b[38;5;28;43mself\u001b[39;49m\u001b[38;5;241;43m.\u001b[39;49m\u001b[43m_repr_html_full_coords\u001b[49m\u001b[43m(\u001b[49m\n\u001b[1;32m   1760\u001b[0m \u001b[43m        \u001b[49m\u001b[43m{\u001b[49m\u001b[43mk\u001b[49m\u001b[43m:\u001b[49m\u001b[43m \u001b[49m\u001b[43mv\u001b[49m\u001b[43m \u001b[49m\u001b[38;5;28;43;01mfor\u001b[39;49;00m\u001b[43m \u001b[49m\u001b[43mk\u001b[49m\u001b[43m,\u001b[49m\u001b[43m \u001b[49m\u001b[43mv\u001b[49m\u001b[43m \u001b[49m\u001b[38;5;129;43;01min\u001b[39;49;00m\u001b[43m \u001b[49m\u001b[38;5;28;43mself\u001b[39;49m\u001b[38;5;241;43m.\u001b[39;49m\u001b[43mfull_coords\u001b[49m\u001b[38;5;241;43m.\u001b[39;49m\u001b[43mitems\u001b[49m\u001b[43m(\u001b[49m\u001b[43m)\u001b[49m\u001b[43m \u001b[49m\u001b[38;5;28;43;01mif\u001b[39;49;00m\u001b[43m \u001b[49m\u001b[43mv\u001b[49m\u001b[43m \u001b[49m\u001b[38;5;129;43;01mis\u001b[39;49;00m\u001b[43m \u001b[49m\u001b[38;5;129;43;01mnot\u001b[39;49;00m\u001b[43m \u001b[49m\u001b[38;5;28;43;01mNone\u001b[39;49;00m\u001b[43m}\u001b[49m\n\u001b[1;32m   1761\u001b[0m \u001b[43m    \u001b[49m\u001b[43m)\u001b[49m,\n\u001b[1;32m   1762\u001b[0m     spectrometer_info\u001b[38;5;241m=\u001b[39m\u001b[38;5;28mself\u001b[39m\u001b[38;5;241m.\u001b[39m_repr_html_spectrometer_info(),\n\u001b[1;32m   1763\u001b[0m )\n",
      "File \u001b[0;32m~/dev/arpes/arpes/xarray_extensions.py:1650\u001b[0m, in \u001b[0;36mARPESAccessorBase._repr_html_full_coords\u001b[0;34m(self, coords)\u001b[0m\n\u001b[1;32m   1641\u001b[0m         \u001b[38;5;28;01mreturn\u001b[39;00m value\n\u001b[1;32m   1643\u001b[0m     \u001b[38;5;28;01mreturn\u001b[39;00m \u001b[38;5;124m\"\u001b[39m\u001b[38;5;124m<span>\u001b[39m\u001b[38;5;132;01m{min:.3g}\u001b[39;00m\u001b[38;5;124m<strong> to </strong>\u001b[39m\u001b[38;5;132;01m{max:.3g}\u001b[39;00m\u001b[38;5;124m<strong> by </strong>\u001b[39m\u001b[38;5;132;01m{delta:.3g}\u001b[39;00m\u001b[38;5;124m</span>\u001b[39m\u001b[38;5;124m\"\u001b[39m\u001b[38;5;241m.\u001b[39mformat(\n\u001b[1;32m   1644\u001b[0m         \u001b[38;5;28mmin\u001b[39m\u001b[38;5;241m=\u001b[39mvalue\u001b[38;5;241m.\u001b[39mmin()\u001b[38;5;241m.\u001b[39mitem(),\n\u001b[1;32m   1645\u001b[0m         \u001b[38;5;28mmax\u001b[39m\u001b[38;5;241m=\u001b[39mvalue\u001b[38;5;241m.\u001b[39mmax()\u001b[38;5;241m.\u001b[39mitem(),\n\u001b[1;32m   1646\u001b[0m         delta\u001b[38;5;241m=\u001b[39mvalue\u001b[38;5;241m.\u001b[39mvalues[\u001b[38;5;241m1\u001b[39m] \u001b[38;5;241m-\u001b[39m value\u001b[38;5;241m.\u001b[39mvalues[\u001b[38;5;241m0\u001b[39m],\n\u001b[1;32m   1647\u001b[0m     )\n\u001b[1;32m   1649\u001b[0m \u001b[38;5;28;01mreturn\u001b[39;00m ARPESAccessorBase\u001b[38;5;241m.\u001b[39mdict_to_html(\n\u001b[0;32m-> 1650\u001b[0m     {k: coordinate_dataarray_to_flat_rep(v) \u001b[38;5;28;01mfor\u001b[39;00m k, v \u001b[38;5;129;01min\u001b[39;00m coords\u001b[38;5;241m.\u001b[39mitems()}\n\u001b[1;32m   1651\u001b[0m )\n",
      "File \u001b[0;32m~/dev/arpes/arpes/xarray_extensions.py:1650\u001b[0m, in \u001b[0;36m<dictcomp>\u001b[0;34m(.0)\u001b[0m\n\u001b[1;32m   1641\u001b[0m         \u001b[38;5;28;01mreturn\u001b[39;00m value\n\u001b[1;32m   1643\u001b[0m     \u001b[38;5;28;01mreturn\u001b[39;00m \u001b[38;5;124m\"\u001b[39m\u001b[38;5;124m<span>\u001b[39m\u001b[38;5;132;01m{min:.3g}\u001b[39;00m\u001b[38;5;124m<strong> to </strong>\u001b[39m\u001b[38;5;132;01m{max:.3g}\u001b[39;00m\u001b[38;5;124m<strong> by </strong>\u001b[39m\u001b[38;5;132;01m{delta:.3g}\u001b[39;00m\u001b[38;5;124m</span>\u001b[39m\u001b[38;5;124m\"\u001b[39m\u001b[38;5;241m.\u001b[39mformat(\n\u001b[1;32m   1644\u001b[0m         \u001b[38;5;28mmin\u001b[39m\u001b[38;5;241m=\u001b[39mvalue\u001b[38;5;241m.\u001b[39mmin()\u001b[38;5;241m.\u001b[39mitem(),\n\u001b[1;32m   1645\u001b[0m         \u001b[38;5;28mmax\u001b[39m\u001b[38;5;241m=\u001b[39mvalue\u001b[38;5;241m.\u001b[39mmax()\u001b[38;5;241m.\u001b[39mitem(),\n\u001b[1;32m   1646\u001b[0m         delta\u001b[38;5;241m=\u001b[39mvalue\u001b[38;5;241m.\u001b[39mvalues[\u001b[38;5;241m1\u001b[39m] \u001b[38;5;241m-\u001b[39m value\u001b[38;5;241m.\u001b[39mvalues[\u001b[38;5;241m0\u001b[39m],\n\u001b[1;32m   1647\u001b[0m     )\n\u001b[1;32m   1649\u001b[0m \u001b[38;5;28;01mreturn\u001b[39;00m ARPESAccessorBase\u001b[38;5;241m.\u001b[39mdict_to_html(\n\u001b[0;32m-> 1650\u001b[0m     {k: \u001b[43mcoordinate_dataarray_to_flat_rep\u001b[49m\u001b[43m(\u001b[49m\u001b[43mv\u001b[49m\u001b[43m)\u001b[49m \u001b[38;5;28;01mfor\u001b[39;00m k, v \u001b[38;5;129;01min\u001b[39;00m coords\u001b[38;5;241m.\u001b[39mitems()}\n\u001b[1;32m   1651\u001b[0m )\n",
      "File \u001b[0;32m~/dev/arpes/arpes/xarray_extensions.py:1646\u001b[0m, in \u001b[0;36mARPESAccessorBase._repr_html_full_coords.<locals>.coordinate_dataarray_to_flat_rep\u001b[0;34m(value)\u001b[0m\n\u001b[1;32m   1640\u001b[0m \u001b[38;5;28;01mif\u001b[39;00m \u001b[38;5;129;01mnot\u001b[39;00m \u001b[38;5;28misinstance\u001b[39m(value, xr\u001b[38;5;241m.\u001b[39mDataArray):\n\u001b[1;32m   1641\u001b[0m     \u001b[38;5;28;01mreturn\u001b[39;00m value\n\u001b[1;32m   1643\u001b[0m \u001b[38;5;28;01mreturn\u001b[39;00m \u001b[38;5;124m\"\u001b[39m\u001b[38;5;124m<span>\u001b[39m\u001b[38;5;132;01m{min:.3g}\u001b[39;00m\u001b[38;5;124m<strong> to </strong>\u001b[39m\u001b[38;5;132;01m{max:.3g}\u001b[39;00m\u001b[38;5;124m<strong> by </strong>\u001b[39m\u001b[38;5;132;01m{delta:.3g}\u001b[39;00m\u001b[38;5;124m</span>\u001b[39m\u001b[38;5;124m\"\u001b[39m\u001b[38;5;241m.\u001b[39mformat(\n\u001b[1;32m   1644\u001b[0m     \u001b[38;5;28mmin\u001b[39m\u001b[38;5;241m=\u001b[39mvalue\u001b[38;5;241m.\u001b[39mmin()\u001b[38;5;241m.\u001b[39mitem(),\n\u001b[1;32m   1645\u001b[0m     \u001b[38;5;28mmax\u001b[39m\u001b[38;5;241m=\u001b[39mvalue\u001b[38;5;241m.\u001b[39mmax()\u001b[38;5;241m.\u001b[39mitem(),\n\u001b[0;32m-> 1646\u001b[0m     delta\u001b[38;5;241m=\u001b[39m\u001b[43mvalue\u001b[49m\u001b[38;5;241;43m.\u001b[39;49m\u001b[43mvalues\u001b[49m\u001b[43m[\u001b[49m\u001b[38;5;241;43m1\u001b[39;49m\u001b[43m]\u001b[49m \u001b[38;5;241m-\u001b[39m value\u001b[38;5;241m.\u001b[39mvalues[\u001b[38;5;241m0\u001b[39m],\n\u001b[1;32m   1647\u001b[0m )\n",
      "\u001b[0;31mIndexError\u001b[0m: too many indices for array: array is 0-dimensional, but 1 were indexed"
     ]
    },
    {
     "data": {
      "text/plain": [
       "<arpes.xarray_extensions.ARPESDatasetAccessor at 0x7fb9adba7670>"
      ]
     },
     "execution_count": 8,
     "metadata": {},
     "output_type": "execute_result"
    }
   ],
   "source": [
    "data.S"
   ]
  },
  {
   "cell_type": "markdown",
   "id": "1d7de2d8-025f-4ead-9342-3c40f530b7fe",
   "metadata": {},
   "source": [
    "Visualize first file"
   ]
  },
  {
   "cell_type": "markdown",
   "id": "5db2a2ea-1e78-42b6-ba72-5576284fe76e",
   "metadata": {},
   "source": [
    "You can use the \"Axes\" tab to transpose the volume to obtain the optimal panel arrangement."
   ]
  },
  {
   "cell_type": "code",
   "execution_count": 5,
   "id": "a9436bce-4f5d-4f68-9f8b-c0f5ee1ef3d3",
   "metadata": {},
   "outputs": [
    {
     "ename": "NameError",
     "evalue": "name 'zero_deg' is not defined",
     "output_type": "error",
     "traceback": [
      "\u001b[0;31m---------------------------------------------------------------------------\u001b[0m",
      "\u001b[0;31mNameError\u001b[0m                                 Traceback (most recent call last)",
      "Input \u001b[0;32mIn [5]\u001b[0m, in \u001b[0;36m<cell line: 1>\u001b[0;34m()\u001b[0m\n\u001b[0;32m----> 1\u001b[0m qt_tool(\u001b[43mzero_deg\u001b[49m)\n",
      "\u001b[0;31mNameError\u001b[0m: name 'zero_deg' is not defined"
     ]
    }
   ],
   "source": [
    "qt_tool(zero_deg)"
   ]
  },
  {
   "cell_type": "markdown",
   "id": "1985f54a-3ddc-426b-98fe-85c368756ec0",
   "metadata": {},
   "source": [
    "Download & extract the second file"
   ]
  },
  {
   "cell_type": "code",
   "execution_count": null,
   "id": "f608fa34-5b23-4a7d-81ba-a7739f535ddd",
   "metadata": {},
   "outputs": [],
   "source": [
    "! curl -o download/TiTe2_60deg.nxs  https://zenodo.org/record/5541490/files/TiTe2_60deg.nxs?download=1"
   ]
  },
  {
   "cell_type": "code",
   "execution_count": null,
   "id": "26bdef12-ea1b-4453-be84-287ab1de1337",
   "metadata": {},
   "outputs": [],
   "source": [
    "hf2 = h5.File( 'download/TiTe2_60deg.nxs', 'r' )\n",
    "sixty_deg=xr.DataArray(hf2['entry/data/Photoemission intensity'][:],\n",
    "        coords={'BE': hf2['entry/data/calculated_Energy'][:], 'kx':hf2['entry/data/calculated_kx'][:], 'ky':hf2['entry/data/calculated_ky'][:]},\n",
    "        )"
   ]
  },
  {
   "cell_type": "markdown",
   "id": "88310069-fb9a-48c4-a490-072118176937",
   "metadata": {},
   "source": [
    "Visualize second file"
   ]
  },
  {
   "cell_type": "code",
   "execution_count": null,
   "id": "a01b408e-1caf-400c-a72f-0b21d7085916",
   "metadata": {},
   "outputs": [],
   "source": [
    "qt_tool(sixty_deg)"
   ]
  },
  {
   "cell_type": "markdown",
   "id": "a94113ae-ae8f-4a9a-a2be-ee570a2aca60",
   "metadata": {},
   "source": [
    "Noticed the asymmetry in the electron pockts at the Fermi surface? Let's make it shine!"
   ]
  },
  {
   "cell_type": "code",
   "execution_count": null,
   "id": "9aa56079-be66-4575-91c9-7bc77213893f",
   "metadata": {},
   "outputs": [],
   "source": [
    "difference=zero_deg-sixty_deg"
   ]
  },
  {
   "cell_type": "markdown",
   "id": "47c9522c-4860-4850-9cec-17a4f175c326",
   "metadata": {},
   "source": [
    "Unfortunately only linear colorscales available for the moment"
   ]
  },
  {
   "cell_type": "code",
   "execution_count": null,
   "id": "b6c6c637-7e30-4428-a8b6-c43940ed7382",
   "metadata": {},
   "outputs": [],
   "source": [
    "qt_tool(difference)"
   ]
  },
  {
   "cell_type": "markdown",
   "id": "4adac691-aacd-40bb-a558-4b46f9819008",
   "metadata": {},
   "source": [
    "This is the main observation of https://arxiv.org/pdf/2107.07158.pdf"
   ]
  },
  {
   "cell_type": "markdown",
   "id": "c2e62727-32c9-432e-9d25-9d35b4347811",
   "metadata": {},
   "source": [
    "We can also test 4D data."
   ]
  },
  {
   "cell_type": "code",
   "execution_count": null,
   "id": "4bf60894-22d3-4034-a808-311f285278bc",
   "metadata": {},
   "outputs": [],
   "source": [
    "! curl -o download/MoTe2_dyn.nxs  https://zenodo.org/record/4632481/files/201905_MoTe2.nxs?download=1"
   ]
  },
  {
   "cell_type": "code",
   "execution_count": null,
   "id": "dda4bc9a-9729-4bd3-9456-a174427e7a3c",
   "metadata": {},
   "outputs": [],
   "source": [
    "hf3 = h5.File( 'download/MoTe2_dyn.nxs', 'r' )\n",
    "dyn=xr.DataArray(hf3['entry/data/Photoemission intensity'][:],\n",
    "        coords={'tpp': np.squeeze(hf3['entry/data/calculated_Tpp'][:]),'BE': np.squeeze(hf3['entry/data/calculated_Energy'][:]), 'kx': np.squeeze(hf3['entry/data/calculated_kx'][:]), 'ky': np.squeeze(hf3['entry/data/calculated_ky'][:])},\n",
    "        )"
   ]
  },
  {
   "cell_type": "code",
   "execution_count": null,
   "id": "cb0b2144-7ae8-401e-a351-6416098c408a",
   "metadata": {},
   "outputs": [],
   "source": [
    "qt_tool(dyn)"
   ]
  },
  {
   "cell_type": "markdown",
   "id": "01044d8a-00ee-4123-a7a4-5b984b30789d",
   "metadata": {},
   "source": [
    "At the Fermi energy, you will see an electron pocket appearing close to time zero and disappearing immediately after wards. This is the signature of a dynamical Lifshitz transition, a change in the topology of the Fermi surface. To learn more, read https://www.science.org/doi/10.1126/sciadv.abd9275'"
   ]
  }
 ],
 "metadata": {
  "kernelspec": {
   "display_name": "pyarpes38",
   "language": "python",
   "name": "pyarpes38"
  },
  "language_info": {
   "codemirror_mode": {
    "name": "ipython",
    "version": 3
   },
   "file_extension": ".py",
   "mimetype": "text/x-python",
   "name": "python",
   "nbconvert_exporter": "python",
   "pygments_lexer": "ipython3",
   "version": "3.8.13"
  }
 },
 "nbformat": 4,
 "nbformat_minor": 5
}
